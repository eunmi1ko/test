{
 "cells": [
  {
   "cell_type": "code",
   "execution_count": 0,
   "metadata": {
    "application/vnd.databricks.v1+cell": {
     "cellMetadata": {
      "byteLimit": 10485760,
      "rowLimit": 1000
     },
     "inputWidgets": {},
     "nuid": "614c38e2-ea5c-4216-956f-b7fed514e003",
     "showTitle": false,
     "tableResultSettingsMap": {},
     "title": ""
    }
   },
   "outputs": [],
   "source": [
    "-- test \n",
    "select * from system.access.audit limit 10 \n",
    "\n",
    "\n",
    "select mac_addr, normal_log  \n",
    "from aic_data_ods.tlamp.normal_log_webos24\n",
    "where context_name = 'MM' \n",
    "  and message_id = 'NL_MM_PROCLIST' \n",
    "  and X_Device_Country = 'KR'\n",
    "  and mac_addr = aic_data_ods.tlamp.HASH_MAC('A:A:A:')"
   ]
  }
 ],
 "metadata": {
  "application/vnd.databricks.v1+notebook": {
   "computePreferences": null,
   "dashboards": [],
   "environmentMetadata": null,
   "inputWidgetPreferences": null,
   "language": "sql",
   "notebookMetadata": {
    "pythonIndentUnit": 4,
    "sqlQueryOptions": {
     "applyAutoLimit": true,
     "catalog": "public_aic",
     "schema": "default"
    }
   },
   "notebookName": "New Query 2025-10-29 9:53am.dbquery.ipynb",
   "widgets": {}
  },
  "language_info": {
   "name": "sql"
  }
 },
 "nbformat": 4,
 "nbformat_minor": 0
}